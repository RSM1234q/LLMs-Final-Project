{
 "cells": [
  {
   "cell_type": "code",
   "execution_count": null,
   "metadata": {
    "id": "8pPVjEn-yrQY"
   },
   "outputs": [],
   "source": [
    "# Libraries\n",
    "import pandas as pd\n",
    "import seaborn as sns\n",
    "import matplotlib.pyplot as plt\n",
    "from sklearn.model_selection import train_test_split"
   ]
  },
  {
   "cell_type": "code",
   "execution_count": null,
   "metadata": {
    "id": "FMkMohqWy9Ut"
   },
   "outputs": [],
   "source": [
    "# Load the dataset\n",
    "df = pd.read_csv(\"stock_news.csv\", index_col = 0)"
   ]
  },
  {
   "cell_type": "code",
   "execution_count": null,
   "metadata": {
    "id": "F69qrJBazGpk"
   },
   "outputs": [],
   "source": [
    "# Cell 1\n",
    "# Function to select a positive, negative and neutral datapoint from the dataset and delete them.\n",
    "def find_few_shot_examples(df):\n",
    "    few_shot_pos = None\n",
    "    few_shot_neu = None\n",
    "    few_shot_neg = None\n",
    "    drop_indices = []\n",
    "\n",
    "    for idx, dtpoint in df.iterrows():\n",
    "        if dtpoint['label'] == \"Positive\" and few_shot_pos is None:\n",
    "            few_shot_pos = dtpoint\n",
    "            drop_indices.append(idx)\n",
    "        elif dtpoint['label'] == \"Neutral\" and few_shot_neu is None:\n",
    "            few_shot_neu = dtpoint\n",
    "            drop_indices.append(idx)\n",
    "        elif dtpoint['label'] == \"Negative\" and few_shot_neg is None:\n",
    "            few_shot_neg = dtpoint\n",
    "            drop_indices.append(idx)\n",
    "\n",
    "        if few_shot_pos is not None and few_shot_neu is not None and few_shot_neg is not None:\n",
    "            break\n",
    "\n",
    "    # Drop the selected rows all at once after the loop\n",
    "    df = df.drop(drop_indices).reset_index(drop=True)\n",
    "\n",
    "    return df, few_shot_pos, few_shot_neu, few_shot_neg"
   ]
  },
  {
   "cell_type": "code",
   "execution_count": null,
   "metadata": {
    "id": "5mLB6YMEz_k8"
   },
   "outputs": [],
   "source": [
    "# Cell 2\n",
    "# Run this cell for 3 and 1-shot prompting\n",
    "df, few_shot_pos, few_shot_neu, few_shot_neg = find_few_shot_examples(df)"
   ]
  },
  {
   "cell_type": "code",
   "execution_count": null,
   "metadata": {
    "id": "JxiEJS0XzuVr"
   },
   "outputs": [],
   "source": [
    "# Cell 3\n",
    "# Run also this cell for 6-shot-prompt\n",
    "df, few_shot_pos1, few_shot_neu1, few_shot_neg1 = find_few_shot_examples(df)"
   ]
  },
  {
   "cell_type": "code",
   "execution_count": null,
   "metadata": {
    "id": "8EOx8_a10JdT"
   },
   "outputs": [],
   "source": [
    "# Cell 4\n",
    "# Map the labels (Positive: 2, Neutral: 1, Negative: 0)\n",
    "label_mapping = {'Positive': 2, 'Neutral': 1, 'Negative': 0}\n",
    "df['label'] = df['label'].map(label_mapping)"
   ]
  },
  {
   "cell_type": "code",
   "execution_count": null,
   "metadata": {
    "id": "xyh-hgg90MZG"
   },
   "outputs": [],
   "source": [
    "# Cell 5\n",
    "# Split into training and validation sets\n",
    "train_texts, temp_text, train_labels, temp_labels = train_test_split(\n",
    "    df['headline'].values, df['label'].values, test_size=0.3, random_state=42\n",
    ")\n",
    "\n",
    "val_texts, test_texts, val_labels, test_labels = train_test_split(\n",
    "    temp_text, temp_labels, test_size=0.3, random_state=42\n",
    ")"
   ]
  },
  {
   "cell_type": "code",
   "execution_count": null,
   "metadata": {
    "id": "8VmMWku50jJJ"
   },
   "outputs": [],
   "source": [
    "# Cell 6\n",
    "# Run this cell for RobERTa base models\n",
    "from transformers import RobertaForSequenceClassification, RobertaTokenizer\n",
    "\n",
    "# Load the pre-trained RoBERTa model for sequence classification\n",
    "model = RobertaForSequenceClassification.from_pretrained('roberta-base', num_labels=3)\n",
    "# Load the tokenizer\n",
    "tokenizer = RobertaTokenizer.from_pretrained('roberta-base')"
   ]
  },
  {
   "cell_type": "code",
   "execution_count": null,
   "metadata": {
    "id": "3XSmTkwL0rZL"
   },
   "outputs": [],
   "source": [
    "# Cell 7\n",
    "# Run this cell for BERT base models\n",
    "from transformers import BertForSequenceClassification, BertTokenizer\n",
    "\n",
    "# Load the pre-trained BERT model for sequence classiffication\n",
    "model = BertForSequenceClassification.from_pretrained('bert-base-uncased', num_labels=3)\n",
    "# Load the tokenizer\n",
    "tokenizer = BertTokenizer.from_pretrained('bert-base-uncased')"
   ]
  },
  {
   "cell_type": "code",
   "execution_count": null,
   "metadata": {
    "id": "3q9bSWeH0_74"
   },
   "outputs": [],
   "source": [
    "# Cell 8\n",
    "# Create LoRA configuration\n",
    "from peft import get_peft_model, LoraConfig, TaskType\n",
    "\n",
    "lora_config = LoraConfig(\n",
    "    task_type=TaskType.SEQ_CLS,  # Sequence Classification task\n",
    "    r=8,  # Low-rank adaptation size\n",
    "    lora_alpha=32,  # Scaling factor\n",
    "    lora_dropout=0.1,  # Dropout probability for LoRA layers\n",
    "    target_modules=[\"query\", \"value\"]  # Apply LoRA to specific BERT layers\n",
    ")"
   ]
  },
  {
   "cell_type": "code",
   "execution_count": null,
   "metadata": {
    "id": "_ac8kutN1CTM"
   },
   "outputs": [],
   "source": [
    "# Cell 9\n",
    "# Run this cell to wrap the model with the LoRA configuration\n",
    "# Only for PEFT n-shot prompt models\n",
    "\n",
    "model = get_peft_model(model, lora_config)"
   ]
  },
  {
   "cell_type": "code",
   "execution_count": null,
   "metadata": {
    "id": "K3rHRnDS2Qot"
   },
   "outputs": [],
   "source": [
    "# Cell 10\n",
    "# Run this cell for 6 shot prompting\n",
    "def six_shot_prompt(text):\n",
    "  few_shot_prompt = f\"\"\"Classify the following news headlines as either Positive (2), Negative (0) or Neutral (1). Provide only the label as your answer. Here are some examples:\n",
    "  1. {few_shot_pos['headline']}: {few_shot_pos['label']}\n",
    "  2. {few_shot_neu['headline']}: {few_shot_neu['label']}\n",
    "  3. {few_shot_neg['headline']}: {few_shot_neg['label']}\n",
    "  4. {few_shot_pos['headline']}: {few_shot_pos['label']}\n",
    "  5. {few_shot_neu['headline']}: {few_shot_neu['label']}\n",
    "  6. {few_shot_neg['headline']}: {few_shot_neg['label']}\n",
    "\n",
    "  Now, classify the following headline: {text}\n",
    "  Label:\n",
    "  \"\"\"\n",
    "\n",
    "  return few_shot_prompt\n",
    "\n",
    "# Tokenizing the training, testing and validation texts\n",
    "train_encodings = tokenizer([six_shot_prompt(text) for text in train_texts], truncation=True, padding=True, max_length=512)\n",
    "val_encodings = tokenizer([six_shot_prompt(text) for text in val_texts], truncation=True, padding=True, max_length=512)\n",
    "test_encodings = tokenizer([six_shot_prompt(text) for text in test_texts], truncation=True, padding=True, max_length=512)"
   ]
  },
  {
   "cell_type": "code",
   "execution_count": null,
   "metadata": {
    "id": "hwNIwDMF1z3k"
   },
   "outputs": [],
   "source": [
    "# Cell 11\n",
    "# Run this cell for 3 shot prompting\n",
    "def three_shot_prompt(text):\n",
    "  few_shot_prompt = f\"\"\"Classify the following news headlines as either Positive (2), Negative (0) or Neutral (1). Provide only the label as your answer. Here are some examples:\n",
    "  1. {few_shot_pos['headline']}: {few_shot_pos['label']}\n",
    "  2. {few_shot_neu['headline']}: {few_shot_neu['label']}\n",
    "  3. {few_shot_neg['headline']}: {few_shot_neg['label']}\n",
    "\n",
    "  Now, classify the following headline: {text}\n",
    "  Label:\n",
    "  \"\"\"\n",
    "\n",
    "  return few_shot_prompt\n",
    "\n",
    "# Tokenizing the training, testing and validation texts\n",
    "train_encodings = tokenizer([three_shot_prompt(text) for text in train_texts], truncation=True, padding=True, max_length=256)\n",
    "val_encodings = tokenizer([three_shot_prompt(text) for text in val_texts], truncation=True, padding=True, max_length=256)\n",
    "test_encodings = tokenizer([three_shot_prompt(text) for text in test_texts], truncation=True, padding=True, max_length=256)"
   ]
  },
  {
   "cell_type": "code",
   "execution_count": null,
   "metadata": {
    "id": "hdR4Ni9r2eCM"
   },
   "outputs": [],
   "source": [
    "# Cell 12\n",
    "#Run this cell for 1 shot prompting\n",
    "import random\n",
    "\n",
    "def one_shot_prompt(text):\n",
    "  examples = [few_shot_pos, few_shot_neu, few_shot_neg]\n",
    "  example = random.choice(examples)\n",
    "  one_shot_prompt = f\"\"\"Classify the following news headline as either Positive (2), Negative (0) or Neutral (1). Provide only the label as your answer. Here is one example:\n",
    "  {example['headline']}: {example['label']}\n",
    "\n",
    "  Now, classify the following headline: {text}\n",
    "  Label:\n",
    "  \"\"\"\n",
    "\n",
    "  return one_shot_prompt\n",
    "\n",
    "# Tokenizing the training, testing and validation texts\n",
    "train_encodings = tokenizer([one_shot_prompt(text) for text in train_texts], truncation=True, padding=True, max_length=128)\n",
    "val_encodings = tokenizer([one_shot_prompt(text) for text in val_texts], truncation=True, padding=True, max_length=128)\n",
    "test_encodings = tokenizer([one_shot_prompt(text) for text in test_texts], truncation=True, padding=True, max_length=128)"
   ]
  },
  {
   "cell_type": "code",
   "execution_count": null,
   "metadata": {
    "id": "Gz6CVY5k24b9"
   },
   "outputs": [],
   "source": [
    "# Cell 13\n",
    "# Run this to create a class to orgqanize the labels and the trainning texts and transform to tensors\n",
    "import torch\n",
    "\n",
    "class NewsDataset(torch.utils.data.Dataset):\n",
    "    def __init__(self, encodings, labels):\n",
    "        self.encodings = encodings\n",
    "        self.labels = labels\n",
    "\n",
    "    def __getitem__(self, idx):\n",
    "        item = {key: torch.tensor(val[idx]) for key, val in self.encodings.items()}\n",
    "        item['labels'] = torch.tensor(self.labels[idx])\n",
    "        return item\n",
    "\n",
    "    def __len__(self):\n",
    "        return len(self.labels)"
   ]
  },
  {
   "cell_type": "code",
   "execution_count": null,
   "metadata": {
    "id": "2lEYKFwr3FMX"
   },
   "outputs": [],
   "source": [
    "# Cell 14\n",
    "# Create datasets for training, testing and validation\n",
    "train_dataset = NewsDataset(train_encodings, train_labels)\n",
    "val_dataset = NewsDataset(val_encodings, val_labels)\n",
    "test_dataset = NewsDataset(test_encodings, test_labels)"
   ]
  },
  {
   "cell_type": "code",
   "execution_count": null,
   "metadata": {
    "id": "F36bbUE03Wqp"
   },
   "outputs": [],
   "source": [
    "# Cell 15\n",
    "# Run to import the data Collator\n",
    "from transformers import DataCollatorWithPadding\n",
    "from peft import TaskType\n",
    "\n",
    "data_collator = DataCollatorWithPadding(tokenizer=tokenizer)"
   ]
  },
  {
   "cell_type": "code",
   "execution_count": null,
   "metadata": {
    "id": "0Q4lVhZN4Uut"
   },
   "outputs": [],
   "source": [
    "# Cell 16\n",
    "# Training loop for PEFT models\n",
    "from transformers import Trainer, TrainingArguments\n",
    "\n",
    "# Define training arguments\n",
    "training_args = TrainingArguments(\n",
    "    output_dir='C:\\\\Users\\\\34618\\\\OneDrive\\\\Documentos\\\\UNI\\\\LLMs\\\\',\n",
    "    num_train_epochs=5,\n",
    "    per_device_train_batch_size=32,\n",
    "    per_device_eval_batch_size=32,\n",
    "    warmup_steps=500,\n",
    "    weight_decay=0.01,\n",
    "    eval_strategy=\"epoch\",\n",
    ")\n",
    "\n",
    "# Initialize the Trainer\n",
    "trainer = Trainer(\n",
    "    model=model,\n",
    "    args=training_args,\n",
    "    train_dataset=train_dataset,\n",
    "    eval_dataset=val_dataset,\n",
    "    data_collator=data_collator,\n",
    ")\n",
    "\n",
    "# Train the model\n",
    "trainer.train()\n",
    "\n",
    "# Evaluate the model on the validation data\n",
    "eval_result = trainer.evaluate()\n",
    "print(eval_result)"
   ]
  },
  {
   "cell_type": "code",
   "execution_count": null,
   "metadata": {
    "id": "R6EJcCsf37vu"
   },
   "outputs": [],
   "source": [
    "# Cell 17\n",
    "# Plot the training and validation curves\n",
    "def plot_loss_curves(trainer):\n",
    "    train_loss = trainer.state.log_history\n",
    "    train_loss_values = [log['loss'] for log in train_loss if 'loss' in log]\n",
    "    val_loss_values = [log['eval_loss'] for log in train_loss if 'eval_loss' in log]\n",
    "\n",
    "    # Drop the last value (best loss value is added at the end of teh validation loss array)\n",
    "    val_loss_values = val_loss_values[:3]\n",
    "\n",
    "    # Adjust depending of early stopping\n",
    "    epochs = [1,2,3]\n",
    "\n",
    "    plt.figure(figsize=(10, 6))\n",
    "    plt.plot(epochs, train_loss_values[:len(epochs)], label=\"Training Loss\")\n",
    "    plt.plot(epochs, val_loss_values, label=\"Validation Loss\")\n",
    "\n",
    "    plt.title(\"Training vs Validation Loss\")\n",
    "    plt.xlabel(\"Epoch\")\n",
    "    plt.ylabel(\"Loss\")\n",
    "    plt.legend()\n",
    "    plt.show()\n",
    "\n",
    "plot_loss_curves(trainer)"
   ]
  },
  {
   "cell_type": "code",
   "execution_count": null,
   "metadata": {
    "id": "YtTweSoV42_b"
   },
   "outputs": [],
   "source": [
    "# Cell 18\n",
    "# Print the classification report\n",
    "import numpy as np\n",
    "from scipy.special import softmax\n",
    "from sklearn.metrics import classification_report, classification_report, roc_curve, auc, precision_recall_curve\n",
    "\n",
    "# Make predictions\n",
    "predictions = trainer.predict(test_dataset)\n",
    "\n",
    "# Extract predicted probabilities and convert to labels\n",
    "pred_probs = softmax(predictions.predictions, axis=1)\n",
    "pred_labels = pred_probs.argmax(axis=1)\n",
    "\n",
    "unique_classes = np.unique(test_labels)\n",
    "\n",
    "report = classification_report(test_labels, pred_labels, target_names=[\"Negative\", \"Neutral\", \"Positive\"], labels=unique_classes, output_dict=True)\n",
    "\n",
    "# Print classification report with specified labels\n",
    "print(\"Test Classification Report:\")\n",
    "print(report)"
   ]
  },
  {
   "cell_type": "code",
   "execution_count": null,
   "metadata": {
    "id": "n_9rOEvC47Gy"
   },
   "outputs": [],
   "source": [
    "# Cell 19\n",
    "# PLot heatmap with the classification report\n",
    "import seaborn as sns\n",
    "\n",
    "# Convert the classification report to a pandas DataFrame\n",
    "df_report = pd.DataFrame(report).transpose()\n",
    "\n",
    "# Drop the 'support' column for cleaner visualization\n",
    "df_report = df_report.drop(columns=['support'])\n",
    "df_report = df_report[~df_report.index.isin(['accuracy','macro avg', 'weighted avg'])]\n",
    "\n",
    "# Create a heatmap plot of the classification report\n",
    "plt.figure(figsize=(10, 6))\n",
    "sns.heatmap(df_report, annot=True, cmap=\"Blues\", cbar=False, fmt=\".2f\", linewidths=0.5)\n",
    "\n",
    "# Add labels and title\n",
    "plt.title(\"Classification Report Heatmap\", fontsize=16)\n",
    "plt.ylabel(\"Classes\", fontsize=12)\n",
    "plt.xlabel(\"Metrics\", fontsize=12)\n",
    "\n",
    "# Show plot\n",
    "plt.show()"
   ]
  },
  {
   "cell_type": "code",
   "execution_count": null,
   "metadata": {
    "id": "z9Xr4yzo5Lpu"
   },
   "outputs": [],
   "source": [
    "# Cell 20\n",
    "# Plot ROC curve\n",
    "def plot_roc_curve(y_true, y_scores, pos_label=2):\n",
    "    n_classes = 3\n",
    "\n",
    "    plt.figure(figsize=(10, 8))\n",
    "\n",
    "    for i in range(n_classes):\n",
    "        fpr, tpr, _ = roc_curve(y_true, y_scores[:, i], pos_label=i)\n",
    "        roc_auc = auc(fpr, tpr)\n",
    "        plt.plot(fpr, tpr, label='Class {} (AUC = {:.2f})'.format(i, roc_auc))\n",
    "\n",
    "    # Plot diagonal line for random chance\n",
    "    plt.plot([0, 1], [0, 1], color='red', linestyle='--', label='Random chance')\n",
    "\n",
    "    plt.xlabel('False Positive Rate')\n",
    "    plt.ylabel('True Positive Rate')\n",
    "    plt.title('Multi-Class Receiver Operating Characteristic (ROC) Curve')\n",
    "    plt.legend(loc='lower right')\n",
    "    plt.grid()\n",
    "    plt.show()\n",
    "\n",
    "# Call the function for ROC Curve\n",
    "plot_roc_curve(test_labels, pred_probs)"
   ]
  },
  {
   "cell_type": "code",
   "execution_count": null,
   "metadata": {
    "id": "d4xENA_q5Rgv"
   },
   "outputs": [],
   "source": [
    "# Cell 21\n",
    "# Display wring predictions for error analysis\n",
    "def error_analysis(texts, true_labels, predicted_labels):\n",
    "    errors = np.where(true_labels != predicted_labels)[0]\n",
    "    for i in errors:\n",
    "        print(f'Text: {texts[i]}')\n",
    "        print(f'True Label: {true_labels[i]}, Predicted Label: {predicted_labels[i]}')\n",
    "        print('---')\n",
    "\n",
    "# Call the function for error analysis\n",
    "error_analysis(test_texts, test_labels, pred_labels)"
   ]
  }
 ],
 "metadata": {
  "colab": {
   "provenance": []
  },
  "kernelspec": {
   "display_name": "Python 3",
   "name": "python3"
  },
  "language_info": {
   "name": "python"
  }
 },
 "nbformat": 4,
 "nbformat_minor": 0
}
