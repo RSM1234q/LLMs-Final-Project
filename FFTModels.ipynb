{
 "cells": [
  {
   "cell_type": "code",
   "execution_count": null,
   "metadata": {
    "vscode": {
     "languageId": "plaintext"
    }
   },
   "outputs": [],
   "source": [
    "# Libraries\n",
    "import pandas as pd\n",
    "import seaborn as sns\n",
    "import matplotlib.pyplot as plt\n",
    "from sklearn.model_selection import train_test_split"
   ]
  },
  {
   "cell_type": "code",
   "execution_count": null,
   "metadata": {
    "vscode": {
     "languageId": "plaintext"
    }
   },
   "outputs": [],
   "source": [
    "# Load the dataset\n",
    "df = pd.read_csv(\"stock_news.csv\", index_col = 0)"
   ]
  },
  {
   "cell_type": "code",
   "execution_count": null,
   "metadata": {
    "vscode": {
     "languageId": "plaintext"
    }
   },
   "outputs": [],
   "source": [
    "# Map the labels (Positive: 2, Neutral: 1, Negative: 0)\n",
    "label_mapping = {'Positive': 2, 'Neutral': 1, 'Negative': 0}\n",
    "df['label'] = df['label'].map(label_mapping)"
   ]
  },
  {
   "cell_type": "code",
   "execution_count": null,
   "metadata": {
    "vscode": {
     "languageId": "plaintext"
    }
   },
   "outputs": [],
   "source": [
    "# Split into training and validation sets\n",
    "train_texts, temp_text, train_labels, temp_labels = train_test_split(\n",
    "    df['headline'].values, df['label'].values, test_size=0.3, random_state=42\n",
    ")\n",
    "\n",
    "val_texts, test_texts, val_labels, test_labels = train_test_split(\n",
    "    temp_text, temp_labels, test_size=0.3, random_state=42\n",
    ")"
   ]
  },
  {
   "cell_type": "code",
   "execution_count": null,
   "metadata": {
    "vscode": {
     "languageId": "plaintext"
    }
   },
   "outputs": [],
   "source": [
    "# Run this cell for RobERTa base models\n",
    "from transformers import RobertaForSequenceClassification, RobertaTokenizer\n",
    "\n",
    "# Load the pre-trained RoBERTa model for sequence classification\n",
    "model = RobertaForSequenceClassification.from_pretrained('roberta-base', num_labels=3)\n",
    "# Load the tokenizer\n",
    "tokenizer = RobertaTokenizer.from_pretrained('roberta-base')"
   ]
  },
  {
   "cell_type": "code",
   "execution_count": null,
   "metadata": {
    "vscode": {
     "languageId": "plaintext"
    }
   },
   "outputs": [],
   "source": [
    "# Run this cell for BERT base models\n",
    "from transformers import BertForSequenceClassification, BertTokenizer\n",
    "\n",
    "# Load the pre-trained BERT model for sequence classiffication\n",
    "model = BertForSequenceClassification.from_pretrained('bert-base-uncased', num_labels=3)\n",
    "# Load the tokenizer\n",
    "tokenizer = BertTokenizer.from_pretrained('bert-base-uncased')"
   ]
  },
  {
   "cell_type": "code",
   "execution_count": null,
   "metadata": {
    "vscode": {
     "languageId": "plaintext"
    }
   },
   "outputs": [],
   "source": [
    "# Run this to create a class to orgqanize the labels and the trainning texts and transform to tensors\n",
    "# Run for all models\n",
    "import torch\n",
    "\n",
    "class NewsDataset(torch.utils.data.Dataset):\n",
    "    def __init__(self, encodings, labels):\n",
    "        self.encodings = encodings\n",
    "        self.labels = labels\n",
    "\n",
    "    def __getitem__(self, idx):\n",
    "        item = {key: torch.tensor(val[idx]) for key, val in self.encodings.items()}\n",
    "        item['labels'] = torch.tensor(self.labels[idx])\n",
    "        return item\n",
    "\n",
    "    def __len__(self):\n",
    "        return len(self.labels)"
   ]
  },
  {
   "cell_type": "code",
   "execution_count": null,
   "metadata": {
    "vscode": {
     "languageId": "plaintext"
    }
   },
   "outputs": [],
   "source": [
    "# Create datasets for training and validation\n",
    "train_dataset = NewsDataset(train_encodings, train_labels)\n",
    "val_dataset = NewsDataset(val_encodings, val_labels)\n",
    "test_dataset = NewsDataset(test_encodings, test_labels)"
   ]
  },
  {
   "cell_type": "code",
   "execution_count": null,
   "metadata": {
    "vscode": {
     "languageId": "plaintext"
    }
   },
   "outputs": [],
   "source": [
    "# Training loop for FFT models\n",
    "from transformers import Trainer, TrainingArguments\n",
    "from transformers import EarlyStoppingCallback\n",
    "\n",
    "# Define training arguments with early stopping\n",
    "training_args = TrainingArguments(\n",
    "    output_dir='C:\\\\Users\\\\34618\\\\OneDrive\\\\Documentos\\\\UNI\\\\LLMs\\\\',\n",
    "    num_train_epochs=5,\n",
    "    per_device_train_batch_size=32,\n",
    "    per_device_eval_batch_size=32,\n",
    "    warmup_steps=500,\n",
    "    weight_decay=0.01,  # Regularization\n",
    "    eval_strategy=\"epoch\",  # Evaluate at the end of each epoch\n",
    "    save_strategy=\"epoch\",  # Save the model at the end of each epoch (to match eval_strategy)\n",
    "    load_best_model_at_end=True,  # Load the best model found at the end of training\n",
    ")\n",
    "\n",
    "# Initialize the Trainer with early stopping\n",
    "trainer = Trainer(\n",
    "    model=model,\n",
    "    args=training_args,\n",
    "    train_dataset=train_dataset,\n",
    "    eval_dataset=val_dataset,\n",
    "    callbacks=[EarlyStoppingCallback(early_stopping_patience=1)],  # Stop after 3 epochs of no improvement\n",
    ")\n",
    "\n",
    "# Train the model\n",
    "trainer.train()\n",
    "\n",
    "# Evaluate the model on the validation data\n",
    "eval_result = trainer.evaluate()\n",
    "print(eval_result)"
   ]
  },
  {
   "cell_type": "code",
   "execution_count": null,
   "metadata": {
    "vscode": {
     "languageId": "plaintext"
    }
   },
   "outputs": [],
   "source": [
    "# Plot the training and validation curves\n",
    "def plot_loss_curves(trainer):\n",
    "    train_loss = trainer.state.log_history\n",
    "    train_loss_values = [log['loss'] for log in train_loss if 'loss' in log]\n",
    "    val_loss_values = [log['eval_loss'] for log in train_loss if 'eval_loss' in log]\n",
    "\n",
    "    # Drop the last value (best loss value is added at the end of teh validation loss array)\n",
    "    val_loss_values = val_loss_values[:3]\n",
    "\n",
    "    # Adjust depending of early stopping\n",
    "    epochs = [1,2,3]\n",
    "\n",
    "    plt.figure(figsize=(10, 6))\n",
    "    plt.plot(epochs, train_loss_values[:len(epochs)], label=\"Training Loss\")\n",
    "    plt.plot(epochs, val_loss_values, label=\"Validation Loss\")\n",
    "\n",
    "    plt.title(\"Training vs Validation Loss\")\n",
    "    plt.xlabel(\"Epoch\")\n",
    "    plt.ylabel(\"Loss\")\n",
    "    plt.legend()\n",
    "    plt.show()\n",
    "\n",
    "plot_loss_curves(trainer)"
   ]
  },
  {
   "cell_type": "code",
   "execution_count": null,
   "metadata": {
    "vscode": {
     "languageId": "plaintext"
    }
   },
   "outputs": [],
   "source": [
    "# Print the classification report\n",
    "import numpy as np\n",
    "from scipy.special import softmax\n",
    "from sklearn.metrics import classification_report, classification_report, roc_curve, auc, precision_recall_curve\n",
    "\n",
    "# Make predictions\n",
    "predictions = trainer.predict(test_dataset)\n",
    "\n",
    "# Extract predicted probabilities and convert to labels\n",
    "pred_probs = softmax(predictions.predictions, axis=1)\n",
    "pred_labels = pred_probs.argmax(axis=1)\n",
    "\n",
    "unique_classes = np.unique(test_labels)\n",
    "\n",
    "report = classification_report(test_labels, pred_labels, target_names=[\"Negative\", \"Neutral\", \"Positive\"], labels=unique_classes, output_dict=True)\n",
    "\n",
    "# Print classification report with specified labels\n",
    "print(\"Test Classification Report:\")\n",
    "print(report)"
   ]
  },
  {
   "cell_type": "code",
   "execution_count": null,
   "metadata": {
    "vscode": {
     "languageId": "plaintext"
    }
   },
   "outputs": [],
   "source": [
    "# PLot heatmap with the classification report\n",
    "import seaborn as sns\n",
    "\n",
    "# Convert the classification report to a pandas DataFrame\n",
    "df_report = pd.DataFrame(report).transpose()\n",
    "\n",
    "# Drop the 'support' column for cleaner visualization\n",
    "df_report = df_report.drop(columns=['support'])\n",
    "df_report = df_report[~df_report.index.isin(['accuracy','macro avg', 'weighted avg'])]\n",
    "\n",
    "# Create a heatmap plot of the classification report\n",
    "plt.figure(figsize=(10, 6))\n",
    "sns.heatmap(df_report, annot=True, cmap=\"Blues\", cbar=False, fmt=\".2f\", linewidths=0.5)\n",
    "\n",
    "# Add labels and title\n",
    "plt.title(\"Classification Report Heatmap\", fontsize=16)\n",
    "plt.ylabel(\"Classes\", fontsize=12)\n",
    "plt.xlabel(\"Metrics\", fontsize=12)\n",
    "\n",
    "# Show plot\n",
    "plt.show()"
   ]
  },
  {
   "cell_type": "code",
   "execution_count": null,
   "metadata": {
    "vscode": {
     "languageId": "plaintext"
    }
   },
   "outputs": [],
   "source": [
    "# Plot ROC curve\n",
    "def plot_roc_curve(y_true, y_scores, pos_label=2):\n",
    "    n_classes = 3\n",
    "\n",
    "    plt.figure(figsize=(10, 8))\n",
    "\n",
    "    for i in range(n_classes):\n",
    "        fpr, tpr, _ = roc_curve(y_true, y_scores[:, i], pos_label=i)\n",
    "        roc_auc = auc(fpr, tpr)\n",
    "        plt.plot(fpr, tpr, label='Class {} (AUC = {:.2f})'.format(i, roc_auc))\n",
    "\n",
    "    # Plot diagonal line for random chance\n",
    "    plt.plot([0, 1], [0, 1], color='red', linestyle='--', label='Random chance')\n",
    "\n",
    "    plt.xlabel('False Positive Rate')\n",
    "    plt.ylabel('True Positive Rate')\n",
    "    plt.title('Multi-Class Receiver Operating Characteristic (ROC) Curve')\n",
    "    plt.legend(loc='lower right')\n",
    "    plt.grid()\n",
    "    plt.show()\n",
    "\n",
    "# Call the function for ROC Curve\n",
    "plot_roc_curve(test_labels, pred_probs)"
   ]
  },
  {
   "cell_type": "code",
   "execution_count": null,
   "metadata": {
    "vscode": {
     "languageId": "plaintext"
    }
   },
   "outputs": [],
   "source": [
    "# Display wring predictions for error analysis\n",
    "def error_analysis(texts, true_labels, predicted_labels):\n",
    "    errors = np.where(true_labels != predicted_labels)[0]\n",
    "    for i in errors:\n",
    "        print(f'Text: {texts[i]}')\n",
    "        print(f'True Label: {true_labels[i]}, Predicted Label: {predicted_labels[i]}')\n",
    "        print('---')\n",
    "\n",
    "# Call the function for error analysis\n",
    "error_analysis(test_texts, test_labels, pred_labels)"
   ]
  }
 ],
 "metadata": {
  "language_info": {
   "name": "python"
  }
 },
 "nbformat": 4,
 "nbformat_minor": 2
}
